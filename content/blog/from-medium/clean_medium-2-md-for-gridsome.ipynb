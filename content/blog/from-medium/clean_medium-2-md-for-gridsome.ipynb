{
 "cells": [
  {
   "cell_type": "code",
   "execution_count": 82,
   "metadata": {},
   "outputs": [],
   "source": [
    "import shutil\n",
    "import glob\n",
    "import re\n",
    "import pathlib"
   ]
  },
  {
   "cell_type": "code",
   "execution_count": 71,
   "metadata": {},
   "outputs": [],
   "source": [
    "md_file_paths = glob.glob('./posts/**/*.md')"
   ]
  },
  {
   "cell_type": "code",
   "execution_count": 72,
   "metadata": {},
   "outputs": [
    {
     "data": {
      "text/plain": [
       "43"
      ]
     },
     "execution_count": 72,
     "metadata": {},
     "output_type": "execute_result"
    }
   ],
   "source": [
    "len(md_file_paths)"
   ]
  },
  {
   "cell_type": "code",
   "execution_count": 73,
   "metadata": {},
   "outputs": [
    {
     "data": {
      "text/plain": [
       "['./posts/md_1668538215439/2019-07-05_Thank-you-for-sharing--7aa6e53ccbb6.md',\n",
       " './posts/md_1668538215439/2022-07-17_DALL-E-2-and-transcendence-3a3a404fb609.md',\n",
       " './posts/md_1668538215439/2017-07-23_Dating-for-nerds--part-1---problem-diagnosis-c9bfac104c7.md']"
      ]
     },
     "execution_count": 73,
     "metadata": {},
     "output_type": "execute_result"
    }
   ],
   "source": [
    "md_file_paths[:3]"
   ]
  },
  {
   "cell_type": "code",
   "execution_count": 74,
   "metadata": {},
   "outputs": [],
   "source": [
    "def extract_image_paths(md_file_path): \n",
    "    with open(md_file_path) as f:\n",
    "        content = f.read()\n",
    "    return re.findall('\\((.*/md_\\d+/img/.*)\\)', content)"
   ]
  },
  {
   "cell_type": "code",
   "execution_count": 75,
   "metadata": {},
   "outputs": [
    {
     "data": {
      "text/plain": [
       "['/Users/pmigdal/Dropbox/Archive/medium-export-20221115/posts/md_1668538215439/img/1__MsJycsoW__71AhmNJlxLF2g.png',\n",
       " '/Users/pmigdal/Dropbox/Archive/medium-export-20221115/posts/md_1668538215439/img/0__nyhwCcjMxQH71GBi.gif',\n",
       " '/Users/pmigdal/Dropbox/Archive/medium-export-20221115/posts/md_1668538215439/img/0__oaRIheR9va39vRdL.jpg']"
      ]
     },
     "execution_count": 75,
     "metadata": {},
     "output_type": "execute_result"
    }
   ],
   "source": [
    "extract_image_paths(md_file_paths[2])"
   ]
  },
  {
   "cell_type": "code",
   "execution_count": 100,
   "metadata": {},
   "outputs": [],
   "source": [
    "def process_post(md_file_path, export_folder='./for_gridsome'):\n",
    "    with open(md_file_path) as f:\n",
    "        content = f.read()\n",
    "    slug = re.findall('(slug: /@\\w+/((.*)-[\\w]+))', content)\n",
    "    date = re.findall(\"date: '(\\d{4}-\\d{2}-\\d{2})\", content)\n",
    "    if len(slug) != 1:\n",
    "        raise Exception(f'Too little or many slugs: {slug}')\n",
    "    if len(date) != 1:\n",
    "        raise Exception(f'Too little or many dates: {date}')\n",
    "    slug_text, slug_medium, slug = slug[0]\n",
    "    date = date[0]\n",
    "    post_path = f\"{export_folder}/{date}-{slug}\"\n",
    "    pathlib.Path(export_folder).mkdir(exist_ok=True)\n",
    "    pathlib.Path(post_path).mkdir(exist_ok=True)\n",
    "    img_paths = re.findall('\\((.*/md_\\d+/img/.*\\.(.{3,4}))\\)', content)\n",
    "    for i, (full, ext) in enumerate(img_paths):\n",
    "        i_formatted = f\"{i:2d}\".replace(' ', '0')\n",
    "        filename = f\"{i_formatted}.{ext}\"\n",
    "        content = content.replace(full, f\"./{filename}\")\n",
    "        shutil.copy(full, f\"{post_path}/{filename}\")\n",
    "\n",
    "    medium_url = f\"https://pmigdal.medium.com/{slug_medium}\"\n",
    "    content = content.replace(slug_text, f\"slug: {slug}\\nmedium_url: {medium_url}\")\n",
    "\n",
    "    with open(f\"{post_path}/index.md\", 'w') as f:\n",
    "        f.write(content)\n"
   ]
  },
  {
   "cell_type": "code",
   "execution_count": 101,
   "metadata": {},
   "outputs": [],
   "source": [
    "process_post(md_file_paths[2])"
   ]
  },
  {
   "cell_type": "code",
   "execution_count": 102,
   "metadata": {},
   "outputs": [
    {
     "name": "stdout",
     "output_type": "stream",
     "text": [
      "Someting wrong with ./posts/md_1668538215439/2019-01-29_In-the-topic-of-diagrams--I-did-write-a-review-Simple-diagrams-of-convoluted-neural-networks--6418a63f9281.md\n",
      "Someting wrong with ./posts/md_1668538215439/2016-03-14_The-plot-below-is-fake-and-false--in-an-otherwise-good-post---d8b1ce2d0041.md\n",
      "Someting wrong with ./posts/md_1668538215439/2017-04-07_Some-time-ago-I-collected-my-own-list-of-recommended-resources-for-learning-D3-js-6e288564a5fb.md\n",
      "Someting wrong with ./posts/md_1668538215439/2019-04-26_While-I-was-initially-anxious-about-asking-people-these-questions--and-yes-most-women-were--7db91b2b16aa.md\n",
      "Someting wrong with ./posts/md_1668538215439/2019-09-26_To-make-a-cool-game--you-first-have-to-play-other-cool-games-a1a1d45e169b.md\n",
      "Someting wrong with ./posts/md_1668538215439/2017-01-28_Piotr--And-this-particular-visualization-is-by-Julia-Bazinska-----4781ca7a6280.md\n",
      "Someting wrong with ./posts/md_1668538215439/2018-11-26_I-like-this-essay---And-don-t-envy-you-this-interaction-with-pushy-and-dangerous-guy---6a082c732e2d.md\n",
      "Someting wrong with ./posts/md_1668538215439/2019-06-15_This-blog-uses-a-name-for-my-project-from-2015--https---p-migdal-pl-tagoverflow--efbd7c9880df.md\n",
      "Someting wrong with ./posts/md_1668538215439/2022-10-10_ADHD-ma-si--ca-e--ycie--tego-si--nie-nabywa--ani---nie-mija--e7612d08e5b7.md\n",
      "Someting wrong with ./posts/md_1668538215439/2016-08-01_It-looks-like-an-implementation-of-High-Frequency-Dating--http---robrhinehart-com--p-1005---597cc238f28f.md\n",
      "Someting wrong with ./posts/md_1668538215439/2018-03-06_As-far-as-I-remember--in--The-Masters-of-Doom---a-story-of-Wolfenstein--Doom-and-Quake-creators--877b70f642fe.md\n",
      "Someting wrong with ./posts/md_1668538215439/2020-02-10_---it-is-interesting--but-it-has-1500-pages--so-I-just-skimmed-over-the-excerpts--660ce930dbda.md\n"
     ]
    }
   ],
   "source": [
    "for md_file_path in md_file_paths:\n",
    "    try:\n",
    "        process_post(md_file_path)\n",
    "    except:\n",
    "        print(f\"Someting wrong with {md_file_path}\")"
   ]
  },
  {
   "cell_type": "code",
   "execution_count": null,
   "metadata": {},
   "outputs": [],
   "source": []
  }
 ],
 "metadata": {
  "kernelspec": {
   "display_name": "Python 3.9.10 ('base')",
   "language": "python",
   "name": "python3"
  },
  "language_info": {
   "codemirror_mode": {
    "name": "ipython",
    "version": 3
   },
   "file_extension": ".py",
   "mimetype": "text/x-python",
   "name": "python",
   "nbconvert_exporter": "python",
   "pygments_lexer": "ipython3",
   "version": "3.9.10"
  },
  "orig_nbformat": 4,
  "vscode": {
   "interpreter": {
    "hash": "59f3145cc67fcda0343c2852f1f97113a2e6e98841e887156424448e7071ad54"
   }
  }
 },
 "nbformat": 4,
 "nbformat_minor": 2
}
